{
 "cells": [
  {
   "cell_type": "markdown",
   "metadata": {},
   "source": [
    "<center>\n",
    "    <h1> Allegheny County Housing Market Analysis </h1>\n",
    "\n",
    "    \n",
    "    2022-06-10 Jonathan Hanke\n",
    "</center>"
   ]
  },
  {
   "cell_type": "markdown",
   "metadata": {},
   "source": [
    "## 0. Python and Data Imports"
   ]
  },
  {
   "cell_type": "code",
   "execution_count": 1,
   "metadata": {},
   "outputs": [],
   "source": [
    "import pandas as pd\n",
    "import numpy as np\n",
    "import seaborn as sns\n",
    "import matplotlib as mpl"
   ]
  },
  {
   "cell_type": "code",
   "execution_count": 2,
   "metadata": {},
   "outputs": [
    {
     "name": "stderr",
     "output_type": "stream",
     "text": [
      "<decorator-gen-61>:2: DtypeWarning: Columns (19,20,29,30,31,38,46,57,83) have mixed types.Specify dtype option on import or set low_memory=False.\n"
     ]
    },
    {
     "name": "stdout",
     "output_type": "stream",
     "text": [
      "CPU times: user 8.31 s, sys: 744 ms, total: 9.06 s\n",
      "Wall time: 9.08 s\n"
     ]
    }
   ],
   "source": [
    "%%time \n",
    "\n",
    "df1 = pd.read_csv(\"../DATA/1. May 2022 Property Assessments/518b583f-7cc8-4f60-94d0-174cc98310dc.csv\")"
   ]
  },
  {
   "cell_type": "code",
   "execution_count": null,
   "metadata": {},
   "outputs": [],
   "source": []
  },
  {
   "cell_type": "markdown",
   "metadata": {},
   "source": [
    "### 0.1 Initial Data Import EDA"
   ]
  },
  {
   "cell_type": "code",
   "execution_count": 3,
   "metadata": {},
   "outputs": [],
   "source": [
    "#df1.describe()"
   ]
  },
  {
   "cell_type": "markdown",
   "metadata": {},
   "source": [
    "### 0.2 Data Field Descriptions"
   ]
  },
  {
   "cell_type": "code",
   "execution_count": 4,
   "metadata": {},
   "outputs": [],
   "source": [
    "#df1.columns"
   ]
  },
  {
   "cell_type": "markdown",
   "metadata": {},
   "source": [
    "## All Housing Fields\n",
    "\n",
    "1. 'PARID'--  \n",
    "- 'PROPERTYHOUSENUM' -- \n",
    "- 'PROPERTYFRACTION' -- \n",
    "- 'PROPERTYADDRESS' -- \n",
    "- 'PROPERTYCITY' -- \n",
    "- 'PROPERTYSTATE' --  \n",
    "- 'PROPERTYUNIT' -- \n",
    "- 'PROPERTYZIP' -- \n",
    "- 'MUNICODE' -- \n",
    "- 'MUNIDESC' -- \n",
    "- 'SCHOOLCODE' -- \n",
    "- 'SCHOOLDESC' -- \n",
    "- 'LEGAL1' --  \n",
    "- 'LEGAL2'--\n",
    "- 'LEGAL3' -- \n",
    "- 'NEIGHCODE' -- \n",
    "- 'NEIGHDESC' -- \n",
    "- 'TAXCODE' -- \n",
    "- 'TAXDESC' -- \n",
    "- 'TAXSUBCODE' -- \n",
    "- 'TAXSUBCODE_DESC' --\n",
    "- 'OWNERCODE' --  \n",
    "- 'OWNERDESC' -- \n",
    "- 'CLASS' -- \n",
    "- 'CLASSDESC' --\n",
    "- 'USECODE' --  \n",
    "- 'USEDESC' --  \n",
    "- 'LOTAREA' --  \n",
    "- 'HOMESTEADFLAG' -- \n",
    "- 'CLEANGREEN' -- \n",
    "- 'FARMSTEADFLAG' -- \n",
    "- 'ABATEMENTFLAG' -- \n",
    "- 'RECORDDATE' -- \n",
    "- 'SALEDATE' -- \n",
    "- 'SALEPRICE' --\n",
    "- 'SALECODE' -- \n",
    "- 'SALEDESC' -- \n",
    "- 'DEEDBOOK' -- \n",
    "- 'DEEDPAGE' -- \n",
    "- 'PREVSALEDATE' --\n",
    "- 'PREVSALEPRICE' -- \n",
    "- 'PREVSALEDATE2' -- \n",
    "- 'PREVSALEPRICE2' -- \n",
    "- 'CHANGENOTICEADDRESS1' -- \n",
    "- 'CHANGENOTICEADDRESS2' -- \n",
    "- 'CHANGENOTICEADDRESS3' -- \n",
    "- 'CHANGENOTICEADDRESS4' --  \n",
    "- 'COUNTYBUILDING' --  \n",
    "- 'COUNTYLAND' -- \n",
    "- 'COUNTYTOTAL' -- \n",
    "- 'COUNTYEXEMPTBLDG' -- \n",
    "- 'LOCALBUILDING' -- \n",
    "- 'LOCALLAND' -- \n",
    "- 'LOCALTOTAL' -- \n",
    "- 'FAIRMARKETBUILDING' -- \n",
    "- 'FAIRMARKETLAND' -- \n",
    "- 'FAIRMARKETTOTAL' -- \n",
    "- 'STYLE' -- \n",
    "- 'STYLEDESC' -- \n",
    "- 'STORIES' -- \n",
    "- 'YEARBLT' -- \n",
    "- 'EXTERIORFINISH' -- \n",
    "- 'EXTFINISH_DESC' -- \n",
    "- 'ROOF' -- \n",
    "- 'ROOFDESC' -- \n",
    "- 'BASEMENT' -- \n",
    "- 'BASEMENTDESC' -- \n",
    "- 'GRADE' -- \n",
    "- 'GRADEDESC' -- \n",
    "- 'CONDITION' -- \n",
    "- 'CONDITIONDESC' -- \n",
    "- 'CDU' -- \n",
    "- 'CDUDESC' -- \n",
    "- 'TOTALROOMS' -- \n",
    "- 'BEDROOMS' -- \n",
    "- 'FULLBATHS' -- \n",
    "- 'HALFBATHS' --  \n",
    "- 'HEATINGCOOLING' -- \n",
    "- 'HEATINGCOOLINGDESC' -- \n",
    "- 'FIREPLACES' -- \n",
    "- 'BSMTGARAGE' -- \n",
    "- 'FINISHEDLIVINGAREA' --\n",
    "- 'CARDNUMBER' -- \n",
    "- 'ALT_ID' -- \n",
    "- 'TAXYEAR' -- \n",
    "- 'ASOFDATE' -- \n",
    "- 'MUNICIPALITY' -- \n",
    "- 'NEIGHBORHOOD' -- \n",
    "- 'PGH_COUNCIL_DISTRICT' --\n",
    "- 'PGH_WARD' --\n",
    "- 'PGH_PUBLIC_WORKS_DIVISION' --\n",
    "- 'PGH_POLICE_ZONE' --\n",
    "- 'PGH_FIRE_ZONE' --\n",
    "- 'TRACT' --\n",
    "- 'BLOCK_GROUP' --"
   ]
  },
  {
   "cell_type": "markdown",
   "metadata": {},
   "source": [
    "Link to Data Fields -- broken\n",
    "\n",
    "https://data.wprdc.org/dataset/property-assessments/resource/d31e1b1c-215d-4693-9898-154ca49050a4"
   ]
  },
  {
   "cell_type": "markdown",
   "metadata": {},
   "source": [
    "## Summary of fields:\n",
    "\n",
    "### Property ID?\n",
    "\n",
    "1. 'PARID'--  \n",
    "\n",
    "### Property Location Info\n",
    "- 'PROPERTYHOUSENUM' -- \n",
    "- 'PROPERTYFRACTION' -- \n",
    "- 'PROPERTYADDRESS' -- \n",
    "- 'PROPERTYCITY' -- \n",
    "- 'PROPERTYSTATE' --  \n",
    "- 'PROPERTYUNIT' -- \n",
    "- 'PROPERTYZIP' -- \n",
    "- 'MUNICODE' -- \n",
    "- 'MUNIDESC' -- \n",
    "- 'SCHOOLCODE' -- \n",
    "- 'SCHOOLDESC' -- \n",
    "- 'LEGAL1' --  \n",
    "- 'LEGAL2'--\n",
    "- 'LEGAL3' -- \n",
    "- 'NEIGHCODE' -- \n",
    "- 'NEIGHDESC' -- \n",
    "\n",
    "### Property Tax Info\n",
    "- 'TAXCODE' -- \n",
    "- 'TAXDESC' -- \n",
    "- 'TAXSUBCODE' -- \n",
    "- 'TAXSUBCODE_DESC' --\n",
    "\n",
    "\n",
    "### Property Owner/Use/Sale History\n",
    "- 'OWNERCODE' --  \n",
    "- 'OWNERDESC' -- \n",
    "- 'CLASS' -- \n",
    "- 'CLASSDESC' --\n",
    "- 'USECODE' --  \n",
    "- 'USEDESC' --  \n",
    "- 'LOTAREA' --  \n",
    "- 'HOMESTEADFLAG' -- \n",
    "- 'CLEANGREEN' -- \n",
    "- 'FARMSTEADFLAG' -- \n",
    "- 'ABATEMENTFLAG' -- \n",
    "- 'RECORDDATE' -- \n",
    "- 'SALEDATE' -- \n",
    "- 'SALEPRICE' --\n",
    "- 'SALECODE' -- \n",
    "- 'SALEDESC' -- \n",
    "- 'DEEDBOOK' -- \n",
    "- 'DEEDPAGE' -- \n",
    "- 'PREVSALEDATE' --\n",
    "- 'PREVSALEPRICE' -- \n",
    "- 'PREVSALEDATE2' -- \n",
    "- 'PREVSALEPRICE2' -- \n",
    "- 'CHANGENOTICEADDRESS1' -- \n",
    "- 'CHANGENOTICEADDRESS2' -- \n",
    "- 'CHANGENOTICEADDRESS3' -- \n",
    "- 'CHANGENOTICEADDRESS4' --  \n",
    "- 'COUNTYBUILDING' --  \n",
    "- 'COUNTYLAND' -- \n",
    "- 'COUNTYTOTAL' -- \n",
    "- 'COUNTYEXEMPTBLDG' -- \n",
    "- 'LOCALBUILDING' -- \n",
    "- 'LOCALLAND' -- \n",
    "- 'LOCALTOTAL' -- \n",
    "- 'FAIRMARKETBUILDING' -- \n",
    "- 'FAIRMARKETLAND' -- \n",
    "- 'FAIRMARKETTOTAL' -- \n",
    "\n",
    "\n",
    "### Property Building Details\n",
    "- 'STYLE' -- \n",
    "- 'STYLEDESC' -- \n",
    "- 'STORIES' -- \n",
    "- 'YEARBLT' -- \n",
    "- 'EXTERIORFINISH' -- \n",
    "- 'EXTFINISH_DESC' -- \n",
    "- 'ROOF' -- \n",
    "- 'ROOFDESC' -- \n",
    "- 'BASEMENT' -- \n",
    "- 'BASEMENTDESC' -- \n",
    "- 'GRADE' -- \n",
    "- 'GRADEDESC' -- \n",
    "- 'CONDITION' -- \n",
    "- 'CONDITIONDESC' -- \n",
    "- 'CDU' -- \n",
    "- 'CDUDESC' -- \n",
    "- 'TOTALROOMS' -- \n",
    "- 'BEDROOMS' -- \n",
    "- 'FULLBATHS' -- \n",
    "- 'HALFBATHS' --  \n",
    "- 'HEATINGCOOLING' -- \n",
    "- 'HEATINGCOOLINGDESC' -- \n",
    "- 'FIREPLACES' -- \n",
    "- 'BSMTGARAGE' -- \n",
    "- 'FINISHEDLIVINGAREA' --\n",
    "\n",
    "\n",
    "### Other Municipal Information Tracking \n",
    "- 'CARDNUMBER' -- \n",
    "- 'ALT_ID' -- \n",
    "- 'TAXYEAR' -- \n",
    "- 'ASOFDATE' -- \n",
    "- 'MUNICIPALITY' -- \n",
    "- 'NEIGHBORHOOD' -- \n",
    "- 'PGH_COUNCIL_DISTRICT' --\n",
    "- 'PGH_WARD' --\n",
    "- 'PGH_PUBLIC_WORKS_DIVISION' --\n",
    "- 'PGH_POLICE_ZONE' --\n",
    "- 'PGH_FIRE_ZONE' --\n",
    "- 'TRACT' --\n",
    "- 'BLOCK_GROUP' --\n"
   ]
  },
  {
   "cell_type": "code",
   "execution_count": null,
   "metadata": {},
   "outputs": [],
   "source": []
  },
  {
   "cell_type": "markdown",
   "metadata": {},
   "source": [
    "## 1. Exploratory Data Analysis (EDA)"
   ]
  },
  {
   "cell_type": "markdown",
   "metadata": {},
   "source": [
    "### 1.1 EDA for \"Property City\""
   ]
  },
  {
   "cell_type": "code",
   "execution_count": 5,
   "metadata": {},
   "outputs": [
    {
     "data": {
      "text/plain": [
       "<matplotlib.axes._subplots.AxesSubplot at 0x7f83db6651c0>"
      ]
     },
     "execution_count": 5,
     "metadata": {},
     "output_type": "execute_result"
    },
    {
     "data": {
      "image/png": "[encoded data removed]",
      "text/plain": [
       "<Figure size 432x288 with 1 Axes>"
      ]
     },
     "metadata": {
      "needs_background": "light"
     },
     "output_type": "display_data"
    }
   ],
   "source": [
    "df1['PROPERTYCITY'].hist()"
   ]
  },
  {
   "cell_type": "code",
   "execution_count": 6,
   "metadata": {},
   "outputs": [
    {
     "data": {
      "text/plain": [
       "[nan,\n",
       " 'WEST ELIZABETH',\n",
       " 'SAXONBURG',\n",
       " 'WHITAKER',\n",
       " 'HOMESTEAD',\n",
       " 'MONROEVILLE',\n",
       " 'WILMERDING',\n",
       " 'COULTERS',\n",
       " 'FINLEYVILLE',\n",
       " 'CUDDY',\n",
       " 'WEST HOMESTEAD',\n",
       " 'SPRINGDALE',\n",
       " 'PITCAIRN',\n",
       " 'PITTSBURGH',\n",
       " 'MCKEESPORT',\n",
       " 'CREIGHTON',\n",
       " 'CECIL',\n",
       " 'BRADDOCK',\n",
       " 'RUSSELLTON',\n",
       " 'VERONA',\n",
       " 'IMPERIAL',\n",
       " 'LEETDALE',\n",
       " 'MUNHALL',\n",
       " 'BUENA VISTA',\n",
       " 'NORTH BRADDOCK',\n",
       " 'TRAFFORD',\n",
       " 'GLENSHAW',\n",
       " 'RURAL RIDGE',\n",
       " 'CHESWICK',\n",
       " 'BAKERSTOWN',\n",
       " 'BETHEL PARK',\n",
       " 'BAIRDFORD',\n",
       " 'CLINTON',\n",
       " 'WITAKER',\n",
       " 'ELIZABETH',\n",
       " 'DRAVOSBURG',\n",
       " 'BRADFORDWOODS',\n",
       " 'IRWIN',\n",
       " 'NATRONA HEIGHTS',\n",
       " 'MCKEES ROCKS',\n",
       " 'JEFFERSON HILLS',\n",
       " 'INDIANOLA',\n",
       " 'WHITE OAK',\n",
       " 'MOON TOWNSHIP',\n",
       " 'MCDONALD',\n",
       " 'CARNEGIE',\n",
       " 'PLUM',\n",
       " 'PRESTO',\n",
       " 'OAKMONT',\n",
       " 'WEST VIEW',\n",
       " 'CLAIRTON',\n",
       " 'NEW KENSINGTON',\n",
       " 'FAIR OAKS',\n",
       " 'WARRENDALE',\n",
       " 'WEST NEWTON',\n",
       " 'GLASSPORT',\n",
       " 'EAST MC KEESPORT',\n",
       " 'MC KEES ROCKS',\n",
       " 'NORTH FAYETTE',\n",
       " 'MC KEESPORT',\n",
       " 'WEST MIFFLIN',\n",
       " 'BRIDGEVILLE',\n",
       " 'LEETSDALE',\n",
       " 'CRESCENT',\n",
       " 'BRACKENRIDGE',\n",
       " 'ASPINWALL',\n",
       " 'RANKIN',\n",
       " 'SUTERSVILLE',\n",
       " 'PENN HILLS',\n",
       " 'PORT VUE',\n",
       " 'VALENCIA',\n",
       " 'ALLISON PARK',\n",
       " 'FREEPORT',\n",
       " 'BRADFORD WOODS',\n",
       " 'WALL',\n",
       " 'SEWICKLEY',\n",
       " 'MORGAN',\n",
       " 'BADEN',\n",
       " 'N VERSAILLES',\n",
       " 'SOUTH PARK',\n",
       " 'MARS',\n",
       " 'MONONGAHELA',\n",
       " 'STURGEON',\n",
       " 'CORAOPOLIS',\n",
       " 'GIBSONIA',\n",
       " 'AMBRIDGE',\n",
       " 'TURTLE CREEK',\n",
       " 'NORTH VERSAILLES',\n",
       " 'DUQUESNE',\n",
       " 'MC DONALD',\n",
       " 'GREENOCK',\n",
       " 'HARWICK',\n",
       " 'EAST PITTSBURGH',\n",
       " 'NORTH FAYETTE TOWNSHIP',\n",
       " 'WEXFORD',\n",
       " 'OAKDALE',\n",
       " 'OBSERVATORY',\n",
       " 'TARENTUM',\n",
       " 'MOON TWP',\n",
       " 'BELLE VERNON',\n",
       " 'BUNOLA',\n",
       " 'MURRYSVILLE']"
      ]
     },
     "execution_count": 6,
     "metadata": {},
     "output_type": "execute_result"
    }
   ],
   "source": [
    "## How many cities in the county?\n",
    "city_list = list(set(list(df1['PROPERTYCITY'].values)))\n",
    "city_list"
   ]
  },
  {
   "cell_type": "code",
   "execution_count": 7,
   "metadata": {},
   "outputs": [
    {
     "data": {
      "text/plain": [
       "102"
      ]
     },
     "execution_count": 7,
     "metadata": {},
     "output_type": "execute_result"
    }
   ],
   "source": [
    "len(list(set(list(df1['PROPERTYCITY'].values))))"
   ]
  },
  {
   "cell_type": "code",
   "execution_count": 8,
   "metadata": {},
   "outputs": [],
   "source": [
    "## CONCLUSION: There are about 100 cities in Allegheny County."
   ]
  },
  {
   "cell_type": "code",
   "execution_count": 9,
   "metadata": {},
   "outputs": [],
   "source": [
    "## Questions: \n",
    "##    - What is the average population (of properties)?\n",
    "##    - What is the average property price?"
   ]
  },
  {
   "cell_type": "code",
   "execution_count": null,
   "metadata": {},
   "outputs": [],
   "source": []
  },
  {
   "cell_type": "code",
   "execution_count": null,
   "metadata": {},
   "outputs": [],
   "source": []
  },
  {
   "cell_type": "code",
   "execution_count": 10,
   "metadata": {},
   "outputs": [
    {
     "data": {
      "text/plain": [
       "PROPERTYCITY\n",
       "ALLISON PARK    10022\n",
       "AMBRIDGE          479\n",
       "ASPINWALL           1\n",
       "BADEN             501\n",
       "BAIRDFORD         156\n",
       "                ...  \n",
       "WEXFORD          9465\n",
       "WHITAKER            1\n",
       "WHITE OAK          15\n",
       "WILMERDING       1253\n",
       "WITAKER             1\n",
       "Name: PARID, Length: 101, dtype: int64"
      ]
     },
     "execution_count": 10,
     "metadata": {},
     "output_type": "execute_result"
    }
   ],
   "source": [
    "## Check the number of houses per city\n",
    "df1_city_group = df1.groupby('PROPERTYCITY')\n",
    "df1_city_group.count()\n",
    "city_counts = df1_city_group.count()['PARID']\n",
    "city_counts     ## TO DO: Change this series name to \"counts\""
   ]
  },
  {
   "cell_type": "code",
   "execution_count": 11,
   "metadata": {},
   "outputs": [
    {
     "data": {
      "text/plain": [
       "309612"
      ]
     },
     "execution_count": 11,
     "metadata": {},
     "output_type": "execute_result"
    }
   ],
   "source": [
    "city_counts.max()  "
   ]
  },
  {
   "cell_type": "code",
   "execution_count": 12,
   "metadata": {},
   "outputs": [
    {
     "data": {
      "text/plain": [
       "<matplotlib.axes._subplots.AxesSubplot at 0x7f836e7188e0>"
      ]
     },
     "execution_count": 12,
     "metadata": {},
     "output_type": "execute_result"
    },
    {
     "data": {
      "image/png": "[encoded data removed]",
      "text/plain": [
       "<Figure size 432x288 with 1 Axes>"
      ]
     },
     "metadata": {
      "needs_background": "light"
     },
     "output_type": "display_data"
    }
   ],
   "source": [
    "city_counts.hist()"
   ]
  },
  {
   "cell_type": "code",
   "execution_count": 13,
   "metadata": {},
   "outputs": [
    {
     "data": {
      "text/plain": [
       "<matplotlib.axes._subplots.AxesSubplot at 0x7f836e718bb0>"
      ]
     },
     "execution_count": 13,
     "metadata": {},
     "output_type": "execute_result"
    },
    {
     "data": {
      "image/png": "[encoded data removed]",
      "text/plain": [
       "<Figure size 432x288 with 1 Axes>"
      ]
     },
     "metadata": {
      "needs_background": "light"
     },
     "output_type": "display_data"
    }
   ],
   "source": [
    "city_counts.hist(bins=100)"
   ]
  },
  {
   "cell_type": "code",
   "execution_count": 14,
   "metadata": {},
   "outputs": [],
   "source": [
    "#type(city_counts)"
   ]
  },
  {
   "cell_type": "code",
   "execution_count": 15,
   "metadata": {
    "scrolled": true
   },
   "outputs": [
    {
     "data": {
      "text/plain": [
       "PROPERTYCITY\n",
       "WITAKER             1\n",
       "WHITAKER            1\n",
       "ASPINWALL           1\n",
       "PLUM                1\n",
       "PENN HILLS          1\n",
       "                ...  \n",
       "BETHEL PARK     12172\n",
       "GIBSONIA        12990\n",
       "CORAOPOLIS      17746\n",
       "MC KEESPORT     22115\n",
       "PITTSBURGH     309612\n",
       "Name: PARID, Length: 101, dtype: int64"
      ]
     },
     "execution_count": 15,
     "metadata": {},
     "output_type": "execute_result"
    }
   ],
   "source": [
    "city_counts.sort_values()"
   ]
  },
  {
   "cell_type": "code",
   "execution_count": 16,
   "metadata": {},
   "outputs": [
    {
     "data": {
      "text/plain": [
       "<matplotlib.axes._subplots.AxesSubplot at 0x7f8360243e20>"
      ]
     },
     "execution_count": 16,
     "metadata": {},
     "output_type": "execute_result"
    },
    {
     "data": {
      "image/png": "[encoded data removed]",
      "text/plain": [
       "<Figure size 432x288 with 1 Axes>"
      ]
     },
     "metadata": {
      "needs_background": "light"
     },
     "output_type": "display_data"
    }
   ],
   "source": [
    "city_counts.sort_values()[:-1].hist(bins=100)"
   ]
  },
  {
   "cell_type": "code",
   "execution_count": 17,
   "metadata": {},
   "outputs": [
    {
     "data": {
      "text/plain": [
       "(11, 21, 34, 41)"
      ]
     },
     "execution_count": 17,
     "metadata": {},
     "output_type": "execute_result"
    }
   ],
   "source": [
    "len(city_counts[city_counts==1]), \\\n",
    "len(city_counts[city_counts<10]), \\\n",
    "len(city_counts[city_counts<100]), \\\n",
    "len(city_counts[city_counts<200])"
   ]
  },
  {
   "cell_type": "code",
   "execution_count": 18,
   "metadata": {},
   "outputs": [
    {
     "data": {
      "text/plain": [
       "101"
      ]
     },
     "execution_count": 18,
     "metadata": {},
     "output_type": "execute_result"
    }
   ],
   "source": [
    "len(city_counts)"
   ]
  },
  {
   "cell_type": "code",
   "execution_count": 19,
   "metadata": {},
   "outputs": [
    {
     "data": {
      "text/plain": [
       "PROPERTYCITY\n",
       "WITAKER                     1\n",
       "WHITAKER                    1\n",
       "ASPINWALL                   1\n",
       "PLUM                        1\n",
       "PENN HILLS                  1\n",
       "OBSERVATORY                 1\n",
       "N VERSAILLES                1\n",
       "MOON TWP                    1\n",
       "MOON TOWNSHIP               1\n",
       "LEETDALE                    1\n",
       "FAIR OAKS                   1\n",
       "WEST VIEW                   2\n",
       "MCKEES ROCKS                2\n",
       "SAXONBURG                   3\n",
       "NORTH FAYETTE TOWNSHIP      4\n",
       "RANKIN                      5\n",
       "NORTH BRADDOCK              7\n",
       "NORTH FAYETTE               7\n",
       "WEST HOMESTEAD              7\n",
       "PORT VUE                    8\n",
       "BRADFORDWOODS               8\n",
       "WHITE OAK                  15\n",
       "FREEPORT                   21\n",
       "BELLE VERNON               24\n",
       "JEFFERSON HILLS            25\n",
       "MUNHALL                    29\n",
       "MURRYSVILLE                36\n",
       "CECIL                      37\n",
       "MCDONALD                   44\n",
       "SUTERSVILLE                47\n",
       "TRAFFORD                   49\n",
       "IRWIN                      65\n",
       "RURAL RIDGE                92\n",
       "WEST NEWTON                97\n",
       "MCKEESPORT                119\n",
       "BAIRDFORD                 156\n",
       "VALENCIA                  157\n",
       "COULTERS                  173\n",
       "BAKERSTOWN                183\n",
       "BUNOLA                    194\n",
       "GREENOCK                  198\n",
       "STURGEON                  203\n",
       "MORGAN                    253\n",
       "INDIANOLA                 291\n",
       "CUDDY                     342\n",
       "WEST ELIZABETH            382\n",
       "WARRENDALE                442\n",
       "AMBRIDGE                  479\n",
       "BADEN                     501\n",
       "RUSSELLTON                506\n",
       "HARWICK                   533\n",
       "Name: PARID, dtype: int64"
      ]
     },
     "execution_count": 19,
     "metadata": {},
     "output_type": "execute_result"
    }
   ],
   "source": [
    "city_counts.sort_values()[:51]"
   ]
  },
  {
   "cell_type": "code",
   "execution_count": null,
   "metadata": {},
   "outputs": [],
   "source": []
  },
  {
   "cell_type": "code",
   "execution_count": 20,
   "metadata": {},
   "outputs": [],
   "source": [
    "## CONCLUSION:\n",
    "##     - There is one major city -- Pittsburgh (~300K properties)\n",
    "##     - There are many cities listed with only a few properties - (almost half have <500)\n",
    "\n",
    "## SELECTION IDEAS:\n",
    "##     - Cities with a small number of properties may have more specialized considerations\n",
    "##           and may be less liquid for purposes of a trading strategy.  Perhaps focus on \n",
    "##           these separately afterwards if the volume/value is high enough to justify the effort.\n",
    "##     - Also may want to treat Pittsburgh separately as a large city.\n",
    "##     - Treat the others (mid-range volume) as a bucket we trade it."
   ]
  },
  {
   "cell_type": "code",
   "execution_count": null,
   "metadata": {},
   "outputs": [],
   "source": []
  },
  {
   "cell_type": "code",
   "execution_count": 21,
   "metadata": {},
   "outputs": [],
   "source": [
    "## POSSIBLE TO DO: Cross-reference the city counts with the  \n",
    "##        population to get occupancy/coverage information"
   ]
  },
  {
   "cell_type": "code",
   "execution_count": null,
   "metadata": {},
   "outputs": [],
   "source": []
  },
  {
   "cell_type": "markdown",
   "metadata": {},
   "source": [
    "### 1.2 EDA for Fair Market Value by City"
   ]
  },
  {
   "cell_type": "code",
   "execution_count": 22,
   "metadata": {},
   "outputs": [
    {
     "data": {
      "text/plain": [
       "PROPERTYCITY\n",
       "ALLISON PARK    238610.024746\n",
       "AMBRIDGE         75159.707724\n",
       "ASPINWALL       238700.000000\n",
       "BADEN           322336.826347\n",
       "BAIRDFORD        88990.384615\n",
       "                    ...      \n",
       "WEXFORD         383632.675330\n",
       "WHITAKER         26200.000000\n",
       "WHITE OAK        51026.666667\n",
       "WILMERDING       44796.448524\n",
       "WITAKER          60100.000000\n",
       "Name: FAIRMARKETTOTAL, Length: 101, dtype: float64"
      ]
     },
     "execution_count": 22,
     "metadata": {},
     "output_type": "execute_result"
    }
   ],
   "source": [
    "## Check the average value of houses per city\n",
    "df1_city_group = df1.groupby('PROPERTYCITY')\n",
    "df1_city_group.mean()[['FAIRMARKETTOTAL']]\n",
    "city_fairmarket_avg_values = df1_city_group.mean()['FAIRMARKETTOTAL']\n",
    "city_fairmarket_avg_values"
   ]
  },
  {
   "cell_type": "code",
   "execution_count": 23,
   "metadata": {},
   "outputs": [
    {
     "data": {
      "text/plain": [
       "<matplotlib.axes._subplots.AxesSubplot at 0x7f83702b3a00>"
      ]
     },
     "execution_count": 23,
     "metadata": {},
     "output_type": "execute_result"
    },
    {
     "data": {
      "image/png": "[encoded data removed]",
      "text/plain": [
       "<Figure size 432x288 with 1 Axes>"
      ]
     },
     "metadata": {
      "needs_background": "light"
     },
     "output_type": "display_data"
    }
   ],
   "source": [
    "city_fairmarket_avg_values.hist()"
   ]
  },
  {
   "cell_type": "code",
   "execution_count": 24,
   "metadata": {},
   "outputs": [
    {
     "data": {
      "text/plain": [
       "<matplotlib.axes._subplots.AxesSubplot at 0x7f8344fdf850>"
      ]
     },
     "execution_count": 24,
     "metadata": {},
     "output_type": "execute_result"
    },
    {
     "data": {
      "image/png": "[encoded data removed]",
      "text/plain": [
       "<Figure size 432x288 with 1 Axes>"
      ]
     },
     "metadata": {
      "needs_background": "light"
     },
     "output_type": "display_data"
    }
   ],
   "source": [
    "city_fairmarket_avg_values.hist(bins=100)"
   ]
  },
  {
   "cell_type": "code",
   "execution_count": 25,
   "metadata": {},
   "outputs": [
    {
     "data": {
      "text/plain": [
       "1933925.0"
      ]
     },
     "execution_count": 25,
     "metadata": {},
     "output_type": "execute_result"
    }
   ],
   "source": [
    "city_fairmarket_avg_values.max()"
   ]
  },
  {
   "cell_type": "code",
   "execution_count": 26,
   "metadata": {},
   "outputs": [
    {
     "data": {
      "text/plain": [
       "[18700.0,\n",
       " 21264.94845360825,\n",
       " 22500.0,\n",
       " 26200.0,\n",
       " 26876.884422110554,\n",
       " 36335.82502057613,\n",
       " 39112.29083665339,\n",
       " 42033.815028901736,\n",
       " 44796.4485235435,\n",
       " 44980.72889182058,\n",
       " 49161.9158692185,\n",
       " 50656.43615257048,\n",
       " 51026.666666666664,\n",
       " 52687.5,\n",
       " 53914.561334087055,\n",
       " 54162.56544502618,\n",
       " 56900.0,\n",
       " 57149.57983193277,\n",
       " 59485.71428571428,\n",
       " 59488.75060532687,\n",
       " 60100.0,\n",
       " 64148.936170212764,\n",
       " 64536.21600432549,\n",
       " 64608.51351351351,\n",
       " 66181.26888217522,\n",
       " 67806.76781002639,\n",
       " 71300.0,\n",
       " 74783.64476599594,\n",
       " 75159.70772442588,\n",
       " 75583.74384236454,\n",
       " 76000.0,\n",
       " 76433.69565217392,\n",
       " 76591.9191919192,\n",
       " 85716.69960474309,\n",
       " 86050.0,\n",
       " 86103.44827586207,\n",
       " 86718.91891891892,\n",
       " 88299.793814433,\n",
       " 88872.23716873533,\n",
       " 88990.38461538461,\n",
       " 89133.20825515948,\n",
       " 91180.0,\n",
       " 92543.567251462,\n",
       " 93550.0,\n",
       " 94336.73469387754,\n",
       " 95186.75887170155,\n",
       " 96042.98998289763,\n",
       " 97196.97468354431,\n",
       " 98138.46153846153,\n",
       " 98650.54390617032,\n",
       " 99701.9589961117,\n",
       " 103588.75308641975,\n",
       " 105400.0,\n",
       " 108500.0,\n",
       " 109654.94071146245,\n",
       " 110500.0,\n",
       " 117063.54567901234,\n",
       " 117903.09278350516,\n",
       " 123300.0,\n",
       " 124592.14281301483,\n",
       " 125221.01095197978,\n",
       " 125451.65667851701,\n",
       " 126931.85096153847,\n",
       " 132054.14012738853,\n",
       " 133119.4560420617,\n",
       " 138430.28838766867,\n",
       " 143723.55433519906,\n",
       " 149131.5598123534,\n",
       " 152100.0,\n",
       " 154463.63636363635,\n",
       " 156200.0,\n",
       " 171585.09740978526,\n",
       " 180733.33333333334,\n",
       " 182933.32388153748,\n",
       " 190137.22361809044,\n",
       " 195300.0,\n",
       " 196891.66666666666,\n",
       " 208439.80997371016,\n",
       " 208627.2735073293,\n",
       " 213633.90536723164,\n",
       " 213939.27830316653,\n",
       " 220750.0,\n",
       " 222472.02292075966,\n",
       " 224920.7650273224,\n",
       " 238610.02474555976,\n",
       " 238639.37435367116,\n",
       " 238700.0,\n",
       " 244207.3526428491,\n",
       " 245416.80954580446,\n",
       " 250282.63866562958,\n",
       " 285686.2728873239,\n",
       " 322336.8263473054,\n",
       " 327113.4190782422,\n",
       " 371016.7517255589,\n",
       " 383632.67533016374,\n",
       " 413822.82352941175,\n",
       " 417851.86239782016,\n",
       " 538489.7816291162,\n",
       " 1083385.8371040723,\n",
       " 1153471.4285714286,\n",
       " 1933925.0]"
      ]
     },
     "execution_count": 26,
     "metadata": {},
     "output_type": "execute_result"
    }
   ],
   "source": [
    "sorted(city_fairmarket_avg_values)"
   ]
  },
  {
   "cell_type": "code",
   "execution_count": 27,
   "metadata": {},
   "outputs": [
    {
     "data": {
      "text/plain": [
       "PROPERTYCITY\n",
       "MARS                      4.178519e+05\n",
       "IMPERIAL                  5.384898e+05\n",
       "WARRENDALE                1.083386e+06\n",
       "WEST HOMESTEAD            1.153471e+06\n",
       "NORTH FAYETTE TOWNSHIP    1.933925e+06\n",
       "Name: FAIRMARKETTOTAL, dtype: float64"
      ]
     },
     "execution_count": 27,
     "metadata": {},
     "output_type": "execute_result"
    }
   ],
   "source": [
    "city_fairmarket_avg_values.sort_values()[-5:]"
   ]
  },
  {
   "cell_type": "code",
   "execution_count": 28,
   "metadata": {},
   "outputs": [
    {
     "data": {
      "text/plain": [
       "<matplotlib.axes._subplots.AxesSubplot at 0x7f83453e53d0>"
      ]
     },
     "execution_count": 28,
     "metadata": {},
     "output_type": "execute_result"
    },
    {
     "data": {
      "image/png": "[encoded data removed]",
      "text/plain": [
       "<Figure size 432x288 with 1 Axes>"
      ]
     },
     "metadata": {
      "needs_background": "light"
     },
     "output_type": "display_data"
    }
   ],
   "source": [
    "city_fairmarket_avg_values.sort_values()[:-3].hist(bins=100)"
   ]
  },
  {
   "cell_type": "code",
   "execution_count": 29,
   "metadata": {},
   "outputs": [],
   "source": [
    "## CONCLUSION: There are a 3 cities with higher house prices, \n",
    "##             but most have house price arount $100K"
   ]
  },
  {
   "cell_type": "code",
   "execution_count": 30,
   "metadata": {},
   "outputs": [],
   "source": [
    "## Question: Distribution of these -- expect pareto, as with distribution of wealth?"
   ]
  },
  {
   "cell_type": "code",
   "execution_count": null,
   "metadata": {},
   "outputs": [],
   "source": []
  },
  {
   "cell_type": "code",
   "execution_count": null,
   "metadata": {},
   "outputs": [],
   "source": []
  },
  {
   "cell_type": "code",
   "execution_count": null,
   "metadata": {},
   "outputs": [],
   "source": []
  },
  {
   "cell_type": "code",
   "execution_count": 31,
   "metadata": {},
   "outputs": [],
   "source": [
    "## Question: What does the market liquidity look like per city / zipcode and per property?"
   ]
  },
  {
   "cell_type": "code",
   "execution_count": null,
   "metadata": {},
   "outputs": [],
   "source": []
  },
  {
   "cell_type": "code",
   "execution_count": null,
   "metadata": {},
   "outputs": [],
   "source": []
  },
  {
   "cell_type": "code",
   "execution_count": null,
   "metadata": {},
   "outputs": [],
   "source": []
  },
  {
   "cell_type": "code",
   "execution_count": 32,
   "metadata": {},
   "outputs": [
    {
     "data": {
      "text/plain": [
       "<matplotlib.axes._subplots.AxesSubplot at 0x7f834557f670>"
      ]
     },
     "execution_count": 32,
     "metadata": {},
     "output_type": "execute_result"
    },
    {
     "data": {
      "image/png": "[encoded data removed]",
      "text/plain": [
       "<Figure size 432x288 with 1 Axes>"
      ]
     },
     "metadata": {
      "needs_background": "light"
     },
     "output_type": "display_data"
    }
   ],
   "source": [
    "## Scatter Plot of cities by their number of houses and average house value:\n",
    "## -------------------------------------------------------------------------\n",
    "\n",
    "## 1. Compute the number of houses and average value for each city - done above\n",
    "\n",
    "\n",
    "## 2. Make the scatter plot\n",
    "sns.scatterplot(city_counts, city_fairmarket_avg_values)\n"
   ]
  },
  {
   "cell_type": "code",
   "execution_count": null,
   "metadata": {},
   "outputs": [],
   "source": []
  },
  {
   "cell_type": "code",
   "execution_count": 33,
   "metadata": {},
   "outputs": [],
   "source": [
    "## Possible Strategy:\n",
    "##     1) Predict Liquidity\n",
    "##     2) Predict Price Increase\n",
    "\n"
   ]
  },
  {
   "cell_type": "code",
   "execution_count": null,
   "metadata": {},
   "outputs": [],
   "source": []
  },
  {
   "cell_type": "markdown",
   "metadata": {},
   "source": [
    "### 1.3 EDA for Sales Data"
   ]
  },
  {
   "cell_type": "code",
   "execution_count": 34,
   "metadata": {},
   "outputs": [
    {
     "data": {
      "text/html": [
       "<div>\n",
       "<style scoped>\n",
       "    .dataframe tbody tr th:only-of-type {\n",
       "        vertical-align: middle;\n",
       "    }\n",
       "\n",
       "    .dataframe tbody tr th {\n",
       "        vertical-align: top;\n",
       "    }\n",
       "\n",
       "    .dataframe thead th {\n",
       "        text-align: right;\n",
       "    }\n",
       "</style>\n",
       "<table border=\"1\" class=\"dataframe\">\n",
       "  <thead>\n",
       "    <tr style=\"text-align: right;\">\n",
       "      <th></th>\n",
       "      <th>SALEDATE</th>\n",
       "      <th>SALEPRICE</th>\n",
       "      <th>SALECODE</th>\n",
       "      <th>SALEDESC</th>\n",
       "      <th>PREVSALEDATE</th>\n",
       "      <th>PREVSALEPRICE</th>\n",
       "      <th>PREVSALEDATE2</th>\n",
       "      <th>PREVSALEPRICE2</th>\n",
       "    </tr>\n",
       "  </thead>\n",
       "  <tbody>\n",
       "    <tr>\n",
       "      <th>0</th>\n",
       "      <td>03-11-2022</td>\n",
       "      <td>480000.0</td>\n",
       "      <td>0</td>\n",
       "      <td>VALID SALE</td>\n",
       "      <td>08-02-2010</td>\n",
       "      <td>424000.0</td>\n",
       "      <td>NaN</td>\n",
       "      <td>NaN</td>\n",
       "    </tr>\n",
       "    <tr>\n",
       "      <th>1</th>\n",
       "      <td>06-14-2019</td>\n",
       "      <td>1212100.0</td>\n",
       "      <td>AA</td>\n",
       "      <td>SALE NOT ANALYZ</td>\n",
       "      <td>01-16-2009</td>\n",
       "      <td>132000.0</td>\n",
       "      <td>05-20-2008</td>\n",
       "      <td>132000.0</td>\n",
       "    </tr>\n",
       "    <tr>\n",
       "      <th>2</th>\n",
       "      <td>11-08-2021</td>\n",
       "      <td>1100000.0</td>\n",
       "      <td>14</td>\n",
       "      <td>TIME ON MARKET</td>\n",
       "      <td>07-20-2011</td>\n",
       "      <td>311500.0</td>\n",
       "      <td>NaN</td>\n",
       "      <td>NaN</td>\n",
       "    </tr>\n",
       "    <tr>\n",
       "      <th>3</th>\n",
       "      <td>11-08-2021</td>\n",
       "      <td>1100000.0</td>\n",
       "      <td>14</td>\n",
       "      <td>TIME ON MARKET</td>\n",
       "      <td>12-09-2014</td>\n",
       "      <td>253099.0</td>\n",
       "      <td>NaN</td>\n",
       "      <td>NaN</td>\n",
       "    </tr>\n",
       "    <tr>\n",
       "      <th>4</th>\n",
       "      <td>08-29-2013</td>\n",
       "      <td>320000.0</td>\n",
       "      <td>36</td>\n",
       "      <td>QUIT CLAIM</td>\n",
       "      <td>05-06-2011</td>\n",
       "      <td>43778.0</td>\n",
       "      <td>02-21-2008</td>\n",
       "      <td>372500.0</td>\n",
       "    </tr>\n",
       "    <tr>\n",
       "      <th>...</th>\n",
       "      <td>...</td>\n",
       "      <td>...</td>\n",
       "      <td>...</td>\n",
       "      <td>...</td>\n",
       "      <td>...</td>\n",
       "      <td>...</td>\n",
       "      <td>...</td>\n",
       "      <td>...</td>\n",
       "    </tr>\n",
       "    <tr>\n",
       "      <th>582132</th>\n",
       "      <td>12-11-2007</td>\n",
       "      <td>1.0</td>\n",
       "      <td>3</td>\n",
       "      <td>LOVE&amp;AFFECTION</td>\n",
       "      <td>03-23-1992</td>\n",
       "      <td>74600.0</td>\n",
       "      <td>NaN</td>\n",
       "      <td>NaN</td>\n",
       "    </tr>\n",
       "    <tr>\n",
       "      <th>582133</th>\n",
       "      <td>08-02-1974</td>\n",
       "      <td>24000.0</td>\n",
       "      <td>0</td>\n",
       "      <td>VALID SALE</td>\n",
       "      <td>NaN</td>\n",
       "      <td>NaN</td>\n",
       "      <td>NaN</td>\n",
       "      <td>NaN</td>\n",
       "    </tr>\n",
       "    <tr>\n",
       "      <th>582134</th>\n",
       "      <td>09-01-1977</td>\n",
       "      <td>0.0</td>\n",
       "      <td>9</td>\n",
       "      <td>OTHER INVALID</td>\n",
       "      <td>NaN</td>\n",
       "      <td>NaN</td>\n",
       "      <td>NaN</td>\n",
       "      <td>NaN</td>\n",
       "    </tr>\n",
       "    <tr>\n",
       "      <th>582135</th>\n",
       "      <td>08-12-2015</td>\n",
       "      <td>1.0</td>\n",
       "      <td>3</td>\n",
       "      <td>LOVE&amp;AFFECTION</td>\n",
       "      <td>02-02-1978</td>\n",
       "      <td>48500.0</td>\n",
       "      <td>NaN</td>\n",
       "      <td>NaN</td>\n",
       "    </tr>\n",
       "    <tr>\n",
       "      <th>582136</th>\n",
       "      <td>07-19-1991</td>\n",
       "      <td>49900.0</td>\n",
       "      <td>0</td>\n",
       "      <td>VALID SALE</td>\n",
       "      <td>NaN</td>\n",
       "      <td>NaN</td>\n",
       "      <td>NaN</td>\n",
       "      <td>NaN</td>\n",
       "    </tr>\n",
       "  </tbody>\n",
       "</table>\n",
       "<p>582137 rows × 8 columns</p>\n",
       "</div>"
      ],
      "text/plain": [
       "          SALEDATE  SALEPRICE SALECODE         SALEDESC PREVSALEDATE  \\\n",
       "0       03-11-2022   480000.0        0       VALID SALE   08-02-2010   \n",
       "1       06-14-2019  1212100.0       AA  SALE NOT ANALYZ   01-16-2009   \n",
       "2       11-08-2021  1100000.0       14   TIME ON MARKET   07-20-2011   \n",
       "3       11-08-2021  1100000.0       14   TIME ON MARKET   12-09-2014   \n",
       "4       08-29-2013   320000.0       36       QUIT CLAIM   05-06-2011   \n",
       "...            ...        ...      ...              ...          ...   \n",
       "582132  12-11-2007        1.0        3   LOVE&AFFECTION   03-23-1992   \n",
       "582133  08-02-1974    24000.0        0       VALID SALE          NaN   \n",
       "582134  09-01-1977        0.0        9    OTHER INVALID          NaN   \n",
       "582135  08-12-2015        1.0        3   LOVE&AFFECTION   02-02-1978   \n",
       "582136  07-19-1991    49900.0        0       VALID SALE          NaN   \n",
       "\n",
       "        PREVSALEPRICE PREVSALEDATE2  PREVSALEPRICE2  \n",
       "0            424000.0           NaN             NaN  \n",
       "1            132000.0    05-20-2008        132000.0  \n",
       "2            311500.0           NaN             NaN  \n",
       "3            253099.0           NaN             NaN  \n",
       "4             43778.0    02-21-2008        372500.0  \n",
       "...               ...           ...             ...  \n",
       "582132        74600.0           NaN             NaN  \n",
       "582133            NaN           NaN             NaN  \n",
       "582134            NaN           NaN             NaN  \n",
       "582135        48500.0           NaN             NaN  \n",
       "582136            NaN           NaN             NaN  \n",
       "\n",
       "[582137 rows x 8 columns]"
      ]
     },
     "execution_count": 34,
     "metadata": {},
     "output_type": "execute_result"
    }
   ],
   "source": [
    "## Create the data for house sales\n",
    "small_sales_df_cols = ['SALEDATE', 'SALEPRICE', 'SALECODE', 'SALEDESC', \\\n",
    "                       'PREVSALEDATE', 'PREVSALEPRICE', 'PREVSALEDATE2', 'PREVSALEPRICE2']\n",
    "#- 'DEEDBOOK' -- \n",
    "#- 'DEEDPAGE' -- \n",
    "small_sales_df = df1[small_sales_df_cols]\n",
    "small_sales_df"
   ]
  },
  {
   "cell_type": "code",
   "execution_count": 35,
   "metadata": {},
   "outputs": [
    {
     "data": {
      "text/plain": [
       "['VALID SALE',\n",
       " 'SALE NOT ANALYZ',\n",
       " 'TIME ON MARKET',\n",
       " 'QUIT CLAIM',\n",
       " 'NO BLD ASMT',\n",
       " 'OTHER',\n",
       " 'NOT APPLICABLE',\n",
       " 'LOVE&AFFECTION',\n",
       " nan,\n",
       " 'MULTI-PARCEL SA',\n",
       " 'OTHER INVALID',\n",
       " 'CORP TRANSFER',\n",
       " 'EXEMPT',\n",
       " 'CHANGED AFTER',\n",
       " 'CORRECTN / DUP',\n",
       " 'DATE OF TRANSFER',\n",
       " 'SHERIFF SALE',\n",
       " 'GOVT SALE',\n",
       " 'PREV FORECLOSE',\n",
       " 'CITY TREASURER',\n",
       " 'COURT ORDERED',\n",
       " 'CLN GRN VALID PREF',\n",
       " 'ESTATE SALE',\n",
       " 'NO ASSESSED VAL',\n",
       " 'PERSONL PROP',\n",
       " 'PREFERENTIAL ASMT',\n",
       " 'SHORT SALE',\n",
       " 'BANK SALE']"
      ]
     },
     "execution_count": 35,
     "metadata": {},
     "output_type": "execute_result"
    }
   ],
   "source": [
    "## Look at the sales descriptions\n",
    "sale_description_list = list(small_sales_df['SALEDESC'].unique())\n",
    "sale_description_list"
   ]
  },
  {
   "cell_type": "code",
   "execution_count": 36,
   "metadata": {},
   "outputs": [
    {
     "data": {
      "text/plain": [
       "SALEDESC\n",
       "BANK SALE                535\n",
       "CHANGED AFTER            834\n",
       "CITY TREASURER          3593\n",
       "CLN GRN VALID PREF        25\n",
       "CORP TRANSFER           2599\n",
       "CORRECTN / DUP          7988\n",
       "COURT ORDERED            109\n",
       "DATE OF TRANSFER        3396\n",
       "ESTATE SALE             1713\n",
       "EXEMPT                  1302\n",
       "GOVT SALE               4236\n",
       "LOVE&AFFECTION        133230\n",
       "MULTI-PARCEL SA        47443\n",
       "NO ASSESSED VAL         2156\n",
       "NO BLD ASMT             3671\n",
       "NOT APPLICABLE         33354\n",
       "OTHER                  70248\n",
       "OTHER INVALID          45334\n",
       "PERSONL PROP             307\n",
       "PREFERENTIAL ASMT        212\n",
       "PREV FORECLOSE          2147\n",
       "QUIT CLAIM             25652\n",
       "SALE NOT ANALYZ        23407\n",
       "SHERIFF SALE            4463\n",
       "SHORT SALE               173\n",
       "TIME ON MARKET         21944\n",
       "VALID SALE            133131\n",
       "Name: SALEDATE, dtype: int64"
      ]
     },
     "execution_count": 36,
     "metadata": {},
     "output_type": "execute_result"
    }
   ],
   "source": [
    "small_sales_df.groupby('SALEDESC').count()['SALEDATE']"
   ]
  },
  {
   "cell_type": "code",
   "execution_count": 37,
   "metadata": {},
   "outputs": [
    {
     "data": {
      "text/plain": [
       "573202"
      ]
     },
     "execution_count": 37,
     "metadata": {},
     "output_type": "execute_result"
    }
   ],
   "source": [
    "total_sales = small_sales_df.groupby('SALEDESC').count()['SALEDATE'].sum()\n",
    "total_sales"
   ]
  },
  {
   "cell_type": "code",
   "execution_count": 38,
   "metadata": {},
   "outputs": [
    {
     "data": {
      "text/plain": [
       "SALEDESC\n",
       "VALID SALE            23.2\n",
       "LOVE&AFFECTION        23.2\n",
       "OTHER                 12.3\n",
       "MULTI-PARCEL SA        8.3\n",
       "OTHER INVALID          7.9\n",
       "NOT APPLICABLE         5.8\n",
       "QUIT CLAIM             4.5\n",
       "SALE NOT ANALYZ        4.1\n",
       "TIME ON MARKET         3.8\n",
       "CORRECTN / DUP         1.4\n",
       "SHERIFF SALE           0.8\n",
       "GOVT SALE              0.7\n",
       "CITY TREASURER         0.6\n",
       "DATE OF TRANSFER       0.6\n",
       "NO BLD ASMT            0.6\n",
       "CORP TRANSFER          0.5\n",
       "NO ASSESSED VAL        0.4\n",
       "PREV FORECLOSE         0.4\n",
       "ESTATE SALE            0.3\n",
       "EXEMPT                 0.2\n",
       "PERSONL PROP           0.1\n",
       "CHANGED AFTER          0.1\n",
       "BANK SALE              0.1\n",
       "COURT ORDERED          0.0\n",
       "PREFERENTIAL ASMT      0.0\n",
       "CLN GRN VALID PREF     0.0\n",
       "SHORT SALE             0.0\n",
       "Name: SALEDATE, dtype: float64"
      ]
     },
     "execution_count": 38,
     "metadata": {},
     "output_type": "execute_result"
    }
   ],
   "source": [
    "## Show the the percentages of the dataset for each sales type:\n",
    "saledesc_percent_sorted_series = round(small_sales_df.groupby('SALEDESC').count()['SALEDATE'] / total_sales *100, 1).sort_values(ascending=False)\n",
    "saledesc_percent_sorted_series"
   ]
  },
  {
   "cell_type": "code",
   "execution_count": 39,
   "metadata": {},
   "outputs": [
    {
     "data": {
      "text/plain": [
       "SALEDESC\n",
       "VALID SALE         23.2\n",
       "LOVE&AFFECTION     23.2\n",
       "OTHER              12.3\n",
       "MULTI-PARCEL SA     8.3\n",
       "OTHER INVALID       7.9\n",
       "NOT APPLICABLE      5.8\n",
       "QUIT CLAIM          4.5\n",
       "SALE NOT ANALYZ     4.1\n",
       "TIME ON MARKET      3.8\n",
       "CORRECTN / DUP      1.4\n",
       "Name: SALEDATE, dtype: float64"
      ]
     },
     "execution_count": 39,
     "metadata": {},
     "output_type": "execute_result"
    }
   ],
   "source": [
    "saledesc_percent_sorted_series[:10]"
   ]
  },
  {
   "cell_type": "code",
   "execution_count": 40,
   "metadata": {},
   "outputs": [
    {
     "data": {
      "text/plain": [
       "94.5"
      ]
     },
     "execution_count": 40,
     "metadata": {},
     "output_type": "execute_result"
    }
   ],
   "source": [
    "saledesc_percent_sorted_series[:10].sum()"
   ]
  },
  {
   "cell_type": "code",
   "execution_count": 41,
   "metadata": {},
   "outputs": [],
   "source": [
    "## CONCLUSION:  We are interested in the VALID SALE, but would like to understand some of the\n",
    "##                  other fields (i.e. LOVE&AFFECTION and OTHER, perhaps also MULTI-PARCEL SA)."
   ]
  },
  {
   "cell_type": "code",
   "execution_count": 42,
   "metadata": {},
   "outputs": [],
   "source": [
    "## Question: Within the valid sales -- how does the price change over time?"
   ]
  },
  {
   "cell_type": "code",
   "execution_count": null,
   "metadata": {},
   "outputs": [],
   "source": []
  },
  {
   "cell_type": "markdown",
   "metadata": {},
   "source": [
    "<b>Note:</b> \n",
    "We are interested to know for a given house we purchase, how profitable it will be.  However we don't know from the sales data in about the houses bought in a given period of time if it will be sold.  Let's look into the putchase and sales dates to see which sales and purchase dares are represented in the dataset!\n"
   ]
  },
  {
   "cell_type": "code",
   "execution_count": null,
   "metadata": {},
   "outputs": [],
   "source": []
  },
  {
   "cell_type": "markdown",
   "metadata": {},
   "source": [
    "### 1.4 EDA for Sales dates"
   ]
  },
  {
   "cell_type": "code",
   "execution_count": 43,
   "metadata": {},
   "outputs": [
    {
     "data": {
      "text/plain": [
       "Index(['SALEDATE', 'SALEPRICE', 'SALECODE', 'SALEDESC', 'PREVSALEDATE',\n",
       "       'PREVSALEPRICE', 'PREVSALEDATE2', 'PREVSALEPRICE2'],\n",
       "      dtype='object')"
      ]
     },
     "execution_count": 43,
     "metadata": {},
     "output_type": "execute_result"
    }
   ],
   "source": [
    "small_sales_df.columns"
   ]
  },
  {
   "cell_type": "code",
   "execution_count": 44,
   "metadata": {},
   "outputs": [
    {
     "data": {
      "text/plain": [
       "count         575502\n",
       "unique         27177\n",
       "top       05-05-1950\n",
       "freq            2450\n",
       "Name: SALEDATE, dtype: object"
      ]
     },
     "execution_count": 44,
     "metadata": {},
     "output_type": "execute_result"
    }
   ],
   "source": [
    "small_sales_df['SALEDATE'].describe()"
   ]
  },
  {
   "cell_type": "code",
   "execution_count": 45,
   "metadata": {},
   "outputs": [
    {
     "data": {
      "text/plain": [
       "<matplotlib.axes._subplots.AxesSubplot at 0x7f8347758d00>"
      ]
     },
     "execution_count": 45,
     "metadata": {},
     "output_type": "execute_result"
    },
    {
     "data": {
      "image/png": "[encoded data removed]",
      "text/plain": [
       "<Figure size 432x288 with 1 Axes>"
      ]
     },
     "metadata": {
      "needs_background": "light"
     },
     "output_type": "display_data"
    }
   ],
   "source": [
    "#small_sales_df['SALEDATE'][:1000].hist()"
   ]
  },
  {
   "cell_type": "code",
   "execution_count": 46,
   "metadata": {},
   "outputs": [
    {
     "data": {
      "text/plain": [
       "0    03-11-2022\n",
       "1    06-14-2019\n",
       "2    11-08-2021\n",
       "3    11-08-2021\n",
       "4    08-29-2013\n",
       "5    09-12-2014\n",
       "6    04-26-2017\n",
       "7    04-16-2008\n",
       "8    08-23-2019\n",
       "9    02-15-2013\n",
       "Name: SALEDATE, dtype: object"
      ]
     },
     "execution_count": 46,
     "metadata": {},
     "output_type": "execute_result"
    }
   ],
   "source": [
    "small_sales_df['SALEDATE'][:10]"
   ]
  },
  {
   "cell_type": "code",
   "execution_count": 47,
   "metadata": {},
   "outputs": [
    {
     "data": {
      "text/plain": [
       "<matplotlib.axes._subplots.AxesSubplot at 0x7f8340aa9f40>"
      ]
     },
     "execution_count": 47,
     "metadata": {},
     "output_type": "execute_result"
    },
    {
     "data": {
      "image/png": "[encoded data removed]",
      "text/plain": [
       "<Figure size 432x288 with 1 Axes>"
      ]
     },
     "metadata": {
      "needs_background": "light"
     },
     "output_type": "display_data"
    }
   ],
   "source": [
    "small_sales_df['SALEDATE'][:10].hist()"
   ]
  },
  {
   "cell_type": "code",
   "execution_count": null,
   "metadata": {},
   "outputs": [],
   "source": []
  },
  {
   "cell_type": "code",
   "execution_count": 48,
   "metadata": {},
   "outputs": [],
   "source": [
    "## CONCLUSION: It looks like this dataset inludes sales for  properties over many years, \n",
    "##     so we can look further at how to model the liquidity of the properties in the dataset \n",
    "##     over time.  We expect that the sale price will depend on the overall housing market \n",
    "##     trend, as well as on the improvement to the house over time.  \n",
    "\n",
    "## Question: Are house improvements captured in the dataset features?  It seems not...\n",
    "\n",
    "## Predict the liquidity?  Which neighbrhoods can we resell within 1 year, 2years ... 5 eyars?\n",
    "\n"
   ]
  },
  {
   "cell_type": "code",
   "execution_count": 49,
   "metadata": {},
   "outputs": [],
   "source": [
    "## Model #1:  Predict the number of days to sell  (for our restricted population)"
   ]
  },
  {
   "cell_type": "code",
   "execution_count": null,
   "metadata": {},
   "outputs": [],
   "source": []
  },
  {
   "cell_type": "code",
   "execution_count": null,
   "metadata": {},
   "outputs": [],
   "source": []
  },
  {
   "cell_type": "code",
   "execution_count": null,
   "metadata": {},
   "outputs": [],
   "source": []
  },
  {
   "cell_type": "markdown",
   "metadata": {},
   "source": [
    "## 2. Initial Models  "
   ]
  },
  {
   "cell_type": "markdown",
   "metadata": {},
   "source": [
    "### 2.0 Enhance Dataset with additional features"
   ]
  },
  {
   "cell_type": "code",
   "execution_count": 50,
   "metadata": {},
   "outputs": [],
   "source": [
    "from copy import deepcopy\n",
    "df2 = deepcopy(df1)"
   ]
  },
  {
   "cell_type": "code",
   "execution_count": 51,
   "metadata": {},
   "outputs": [
    {
     "data": {
      "text/plain": [
       "Index(['PARID', 'PROPERTYHOUSENUM', 'PROPERTYFRACTION', 'PROPERTYADDRESS',\n",
       "       'PROPERTYCITY', 'PROPERTYSTATE', 'PROPERTYUNIT', 'PROPERTYZIP',\n",
       "       'MUNICODE', 'MUNIDESC', 'SCHOOLCODE', 'SCHOOLDESC', 'LEGAL1', 'LEGAL2',\n",
       "       'LEGAL3', 'NEIGHCODE', 'NEIGHDESC', 'TAXCODE', 'TAXDESC', 'TAXSUBCODE',\n",
       "       'TAXSUBCODE_DESC', 'OWNERCODE', 'OWNERDESC', 'CLASS', 'CLASSDESC',\n",
       "       'USECODE', 'USEDESC', 'LOTAREA', 'HOMESTEADFLAG', 'CLEANGREEN',\n",
       "       'FARMSTEADFLAG', 'ABATEMENTFLAG', 'RECORDDATE', 'SALEDATE', 'SALEPRICE',\n",
       "       'SALECODE', 'SALEDESC', 'DEEDBOOK', 'DEEDPAGE', 'PREVSALEDATE',\n",
       "       'PREVSALEPRICE', 'PREVSALEDATE2', 'PREVSALEPRICE2',\n",
       "       'CHANGENOTICEADDRESS1', 'CHANGENOTICEADDRESS2', 'CHANGENOTICEADDRESS3',\n",
       "       'CHANGENOTICEADDRESS4', 'COUNTYBUILDING', 'COUNTYLAND', 'COUNTYTOTAL',\n",
       "       'COUNTYEXEMPTBLDG', 'LOCALBUILDING', 'LOCALLAND', 'LOCALTOTAL',\n",
       "       'FAIRMARKETBUILDING', 'FAIRMARKETLAND', 'FAIRMARKETTOTAL', 'STYLE',\n",
       "       'STYLEDESC', 'STORIES', 'YEARBLT', 'EXTERIORFINISH', 'EXTFINISH_DESC',\n",
       "       'ROOF', 'ROOFDESC', 'BASEMENT', 'BASEMENTDESC', 'GRADE', 'GRADEDESC',\n",
       "       'CONDITION', 'CONDITIONDESC', 'CDU', 'CDUDESC', 'TOTALROOMS',\n",
       "       'BEDROOMS', 'FULLBATHS', 'HALFBATHS', 'HEATINGCOOLING',\n",
       "       'HEATINGCOOLINGDESC', 'FIREPLACES', 'BSMTGARAGE', 'FINISHEDLIVINGAREA',\n",
       "       'CARDNUMBER', 'ALT_ID', 'TAXYEAR', 'ASOFDATE', 'MUNICIPALITY',\n",
       "       'NEIGHBORHOOD', 'PGH_COUNCIL_DISTRICT', 'PGH_WARD',\n",
       "       'PGH_PUBLIC_WORKS_DIVISION', 'PGH_POLICE_ZONE', 'PGH_FIRE_ZONE',\n",
       "       'TRACT', 'BLOCK_GROUP'],\n",
       "      dtype='object')"
      ]
     },
     "execution_count": 51,
     "metadata": {},
     "output_type": "execute_result"
    }
   ],
   "source": [
    "df2.columns"
   ]
  },
  {
   "cell_type": "code",
   "execution_count": 52,
   "metadata": {},
   "outputs": [],
   "source": [
    "#df2_small = df2[:10]\n",
    "#df2_small"
   ]
  },
  {
   "cell_type": "code",
   "execution_count": 53,
   "metadata": {},
   "outputs": [],
   "source": [
    "#df2_small['SALEDATE']"
   ]
  },
  {
   "cell_type": "code",
   "execution_count": 54,
   "metadata": {},
   "outputs": [],
   "source": [
    "#df2_small['PREVSALEDATE']"
   ]
  },
  {
   "cell_type": "code",
   "execution_count": 55,
   "metadata": {},
   "outputs": [],
   "source": [
    "#df2_small['SALEDATE'] - df2_small['PREVSALEDATE']"
   ]
  },
  {
   "cell_type": "code",
   "execution_count": 56,
   "metadata": {},
   "outputs": [],
   "source": [
    "#import datetime\n",
    "\n"
   ]
  },
  {
   "cell_type": "code",
   "execution_count": 57,
   "metadata": {},
   "outputs": [],
   "source": [
    "#datetime.('12-20-2022')"
   ]
  },
  {
   "cell_type": "code",
   "execution_count": 58,
   "metadata": {},
   "outputs": [],
   "source": [
    "# df2_small['SALEDATE'] - df2_small['PREVSALEDATE']"
   ]
  },
  {
   "cell_type": "code",
   "execution_count": 59,
   "metadata": {},
   "outputs": [],
   "source": [
    "#datetime.date?"
   ]
  },
  {
   "cell_type": "code",
   "execution_count": null,
   "metadata": {},
   "outputs": [],
   "source": []
  },
  {
   "cell_type": "code",
   "execution_count": 60,
   "metadata": {},
   "outputs": [],
   "source": [
    "def MM_DD_YYYY_to_datetime(MM_DD_YYYY_str, separator = '/'):\n",
    "    \"\"\"\n",
    "    Converts a MM/DD/YYYY string to a datetime date object.\n",
    "    \"\"\"\n",
    "    from datetime import date\n",
    "    MM_str, DD_str, YYYY_str = MM_DD_YYYY_str.split(separator) \n",
    "    MM = int(MM_str)\n",
    "    DD = int(DD_str)\n",
    "    YYYY = int(YYYY_str)\n",
    "    return datetime.date(YYYY, MM, DD)\n",
    "\n",
    "\n"
   ]
  },
  {
   "cell_type": "code",
   "execution_count": 61,
   "metadata": {},
   "outputs": [],
   "source": [
    "#date1 = MM_DD_YYYY_to_datetime('12/31/2022'); date1"
   ]
  },
  {
   "cell_type": "code",
   "execution_count": 62,
   "metadata": {},
   "outputs": [],
   "source": [
    "#MM_DD_YYYY_to_datetime('11/31/2022')"
   ]
  },
  {
   "cell_type": "code",
   "execution_count": 63,
   "metadata": {},
   "outputs": [],
   "source": [
    "#date2 = MM_DD_YYYY_to_datetime('11/30/2022'); date2"
   ]
  },
  {
   "cell_type": "code",
   "execution_count": 64,
   "metadata": {},
   "outputs": [],
   "source": [
    "#time_diff = date1 - date2; time_diff"
   ]
  },
  {
   "cell_type": "code",
   "execution_count": 65,
   "metadata": {},
   "outputs": [],
   "source": [
    "#time_diff.days"
   ]
  },
  {
   "cell_type": "code",
   "execution_count": null,
   "metadata": {},
   "outputs": [],
   "source": []
  },
  {
   "cell_type": "code",
   "execution_count": null,
   "metadata": {},
   "outputs": [],
   "source": []
  },
  {
   "cell_type": "code",
   "execution_count": 66,
   "metadata": {},
   "outputs": [],
   "source": [
    "def MM_DD_YYYY_to_datetime_with_hyphen(date_str):\n",
    "    try:\n",
    "        return MM_DD_YYYY_to_datetime(date_str, separator='-')\n",
    "    except:\n",
    "        from numpy import NaN\n",
    "        return NaN"
   ]
  },
  {
   "cell_type": "code",
   "execution_count": 67,
   "metadata": {},
   "outputs": [],
   "source": [
    "def timedelta_to_days(timediff):\n",
    "    \"\"\"\n",
    "    Returns the number of days in the given timedelta object.\n",
    "    \"\"\"\n",
    "    try:\n",
    "        return timediff.days\n",
    "    except:\n",
    "        from numpy import NaN\n",
    "        return NaN    "
   ]
  },
  {
   "cell_type": "code",
   "execution_count": null,
   "metadata": {},
   "outputs": [],
   "source": []
  },
  {
   "cell_type": "code",
   "execution_count": 68,
   "metadata": {},
   "outputs": [],
   "source": [
    "df2['SALEDATE_date'] = df2['SALEDATE'].apply(MM_DD_YYYY_to_datetime_with_hyphen)\n",
    "df2['PREVSALEDATE_date'] = df2['PREVSALEDATE'].apply(MM_DD_YYYY_to_datetime_with_hyphen)\n",
    "df2['PREVSALEDATE2_date'] = df2['PREVSALEDATE2'].apply(MM_DD_YYYY_to_datetime_with_hyphen)\n",
    "\n"
   ]
  },
  {
   "cell_type": "code",
   "execution_count": 69,
   "metadata": {},
   "outputs": [],
   "source": [
    "#df2_small['SALEDATE_date']"
   ]
  },
  {
   "cell_type": "code",
   "execution_count": 70,
   "metadata": {},
   "outputs": [],
   "source": [
    "#df2_small['PREVSALEDATE_date']"
   ]
  },
  {
   "cell_type": "code",
   "execution_count": 71,
   "metadata": {},
   "outputs": [],
   "source": [
    "#df2_small['SALEDATE_date'] - df2_small['PREVSALEDATE_date']"
   ]
  },
  {
   "cell_type": "code",
   "execution_count": 72,
   "metadata": {},
   "outputs": [
    {
     "data": {
      "text/plain": [
       "0        NaN\n",
       "1        NaN\n",
       "2        NaN\n",
       "3        NaN\n",
       "4        NaN\n",
       "          ..\n",
       "582132   NaN\n",
       "582133   NaN\n",
       "582134   NaN\n",
       "582135   NaN\n",
       "582136   NaN\n",
       "Name: OWNERHOLDINGTIMEINDAYS, Length: 582137, dtype: float64"
      ]
     },
     "execution_count": 72,
     "metadata": {},
     "output_type": "execute_result"
    }
   ],
   "source": [
    "df2['OWNERHOLDINGTIME_timedelta'] = df2['SALEDATE_date'] - df2['PREVSALEDATE_date']\n",
    "df2['OWNERHOLDINGTIMEINDAYS'] = df2['OWNERHOLDINGTIME_timedelta'].apply(timedelta_to_days)\n",
    "df2['OWNERHOLDINGTIMEINDAYS']\n",
    "\n"
   ]
  },
  {
   "cell_type": "code",
   "execution_count": null,
   "metadata": {},
   "outputs": [],
   "source": [
    "## %%time\n",
    "## set(df2['OWNERHOLDINGTIMEINDAYS'])"
   ]
  },
  {
   "cell_type": "code",
   "execution_count": null,
   "metadata": {},
   "outputs": [],
   "source": []
  },
  {
   "cell_type": "code",
   "execution_count": null,
   "metadata": {},
   "outputs": [],
   "source": []
  },
  {
   "cell_type": "code",
   "execution_count": 133,
   "metadata": {},
   "outputs": [
    {
     "name": "stderr",
     "output_type": "stream",
     "text": [
      "<ipython-input-133-7163a4eda5d8>:1: SettingWithCopyWarning: \n",
      "A value is trying to be set on a copy of a slice from a DataFrame.\n",
      "Try using .loc[row_indexer,col_indexer] = value instead\n",
      "\n",
      "See the caveats in the documentation: https://pandas.pydata.org/pandas-docs/stable/user_guide/indexing.html#returning-a-view-versus-a-copy\n",
      "  df2_small['PREVOWNERHOLDINGTIME_timedelta'] = df2_small['PREVSALEDATE_date'] - df2_small['PREVSALEDATE2_date']\n"
     ]
    },
    {
     "data": {
      "text/plain": [
       "0         NaT\n",
       "1    241 days\n",
       "2         NaT\n",
       "3         NaT\n",
       "4   1170 days\n",
       "5         NaT\n",
       "6         NaT\n",
       "7         NaT\n",
       "8         NaT\n",
       "9         NaT\n",
       "Name: PREVOWNERHOLDINGTIME_timedelta, dtype: timedelta64[ns]"
      ]
     },
     "execution_count": 133,
     "metadata": {},
     "output_type": "execute_result"
    }
   ],
   "source": [
    "df2_small['PREVOWNERHOLDINGTIME_timedelta'] = df2_small['PREVSALEDATE_date'] - df2_small['PREVSALEDATE2_date']\n",
    "df2_small['PREVOWNERHOLDINGTIME_timedelta']"
   ]
  },
  {
   "cell_type": "code",
   "execution_count": 131,
   "metadata": {},
   "outputs": [
    {
     "data": {
      "text/plain": [
       "Index(['PARID', 'PROPERTYHOUSENUM', 'PROPERTYFRACTION', 'PROPERTYADDRESS',\n",
       "       'PROPERTYCITY', 'PROPERTYSTATE', 'PROPERTYUNIT', 'PROPERTYZIP',\n",
       "       'MUNICODE', 'MUNIDESC', 'SCHOOLCODE', 'SCHOOLDESC', 'LEGAL1', 'LEGAL2',\n",
       "       'LEGAL3', 'NEIGHCODE', 'NEIGHDESC', 'TAXCODE', 'TAXDESC', 'TAXSUBCODE',\n",
       "       'TAXSUBCODE_DESC', 'OWNERCODE', 'OWNERDESC', 'CLASS', 'CLASSDESC',\n",
       "       'USECODE', 'USEDESC', 'LOTAREA', 'HOMESTEADFLAG', 'CLEANGREEN',\n",
       "       'FARMSTEADFLAG', 'ABATEMENTFLAG', 'RECORDDATE', 'SALEDATE', 'SALEPRICE',\n",
       "       'SALECODE', 'SALEDESC', 'DEEDBOOK', 'DEEDPAGE', 'PREVSALEDATE',\n",
       "       'PREVSALEPRICE', 'PREVSALEDATE2', 'PREVSALEPRICE2',\n",
       "       'CHANGENOTICEADDRESS1', 'CHANGENOTICEADDRESS2', 'CHANGENOTICEADDRESS3',\n",
       "       'CHANGENOTICEADDRESS4', 'COUNTYBUILDING', 'COUNTYLAND', 'COUNTYTOTAL',\n",
       "       'COUNTYEXEMPTBLDG', 'LOCALBUILDING', 'LOCALLAND', 'LOCALTOTAL',\n",
       "       'FAIRMARKETBUILDING', 'FAIRMARKETLAND', 'FAIRMARKETTOTAL', 'STYLE',\n",
       "       'STYLEDESC', 'STORIES', 'YEARBLT', 'EXTERIORFINISH', 'EXTFINISH_DESC',\n",
       "       'ROOF', 'ROOFDESC', 'BASEMENT', 'BASEMENTDESC', 'GRADE', 'GRADEDESC',\n",
       "       'CONDITION', 'CONDITIONDESC', 'CDU', 'CDUDESC', 'TOTALROOMS',\n",
       "       'BEDROOMS', 'FULLBATHS', 'HALFBATHS', 'HEATINGCOOLING',\n",
       "       'HEATINGCOOLINGDESC', 'FIREPLACES', 'BSMTGARAGE', 'FINISHEDLIVINGAREA',\n",
       "       'CARDNUMBER', 'ALT_ID', 'TAXYEAR', 'ASOFDATE', 'MUNICIPALITY',\n",
       "       'NEIGHBORHOOD', 'PGH_COUNCIL_DISTRICT', 'PGH_WARD',\n",
       "       'PGH_PUBLIC_WORKS_DIVISION', 'PGH_POLICE_ZONE', 'PGH_FIRE_ZONE',\n",
       "       'TRACT', 'BLOCK_GROUP', 'SALEDATE_date', 'PREVSALEDATE_date',\n",
       "       'LASTHOLDINGTIME_timedelta', 'OWNERHOLDINGTIME_timedelta'],\n",
       "      dtype='object')"
      ]
     },
     "execution_count": 131,
     "metadata": {},
     "output_type": "execute_result"
    }
   ],
   "source": [
    "df2_small.columns"
   ]
  },
  {
   "cell_type": "code",
   "execution_count": null,
   "metadata": {},
   "outputs": [],
   "source": []
  },
  {
   "cell_type": "code",
   "execution_count": null,
   "metadata": {},
   "outputs": [],
   "source": []
  },
  {
   "cell_type": "code",
   "execution_count": null,
   "metadata": {},
   "outputs": [],
   "source": []
  },
  {
   "cell_type": "code",
   "execution_count": null,
   "metadata": {},
   "outputs": [],
   "source": []
  },
  {
   "cell_type": "code",
   "execution_count": null,
   "metadata": {},
   "outputs": [],
   "source": []
  },
  {
   "cell_type": "code",
   "execution_count": null,
   "metadata": {},
   "outputs": [],
   "source": []
  },
  {
   "cell_type": "markdown",
   "metadata": {},
   "source": [
    "### 2.1 Create Dataset for prediction"
   ]
  },
  {
   "cell_type": "code",
   "execution_count": 47,
   "metadata": {},
   "outputs": [],
   "source": [
    "## Create the data for house sales\n",
    "X_small_sales_df_cols = ['PREVSALEDATE', 'PREVSALEPRICE', 'PREVSALEDATE2', 'PREVSALEPRICE2']\n",
    "#y_small_sales_df_cols = ['SALEDATE', 'SALEPRICE']\n",
    "y_small_sales_df_cols = ['SALEPRICE']\n",
    "\n",
    "X_small_sales_df = df1[X_small_sales_df_cols]\n",
    "y_small_sales_df = df1[y_small_sales_df_cols]\n"
   ]
  },
  {
   "cell_type": "code",
   "execution_count": 48,
   "metadata": {},
   "outputs": [],
   "source": [
    "X = X_small_sales_df\n",
    "y = y_small_sales_df"
   ]
  },
  {
   "cell_type": "markdown",
   "metadata": {},
   "source": [
    "### 2.2 Prep Data with Test-Train split"
   ]
  },
  {
   "cell_type": "code",
   "execution_count": 49,
   "metadata": {},
   "outputs": [
    {
     "name": "stderr",
     "output_type": "stream",
     "text": [
      "<frozen importlib._bootstrap>:219: RuntimeWarning: numpy.ufunc size changed, may indicate binary incompatibility. Expected 192 from C header, got 216 from PyObject\n"
     ]
    }
   ],
   "source": [
    "import sklearn\n",
    "\n",
    "from sklearn.model_selection import train_test_split"
   ]
  },
  {
   "cell_type": "code",
   "execution_count": 50,
   "metadata": {},
   "outputs": [],
   "source": [
    "X_train, X_test, y_train, y_test = train_test_split(X, y, test_size=0.2, random_state=496)"
   ]
  },
  {
   "cell_type": "code",
   "execution_count": null,
   "metadata": {},
   "outputs": [],
   "source": []
  },
  {
   "cell_type": "code",
   "execution_count": 51,
   "metadata": {},
   "outputs": [
    {
     "data": {
      "text/plain": [
       "(465709, 116428)"
      ]
     },
     "execution_count": 51,
     "metadata": {},
     "output_type": "execute_result"
    }
   ],
   "source": [
    "len(X_train), len(X_test)"
   ]
  },
  {
   "cell_type": "code",
   "execution_count": null,
   "metadata": {},
   "outputs": [],
   "source": []
  },
  {
   "cell_type": "code",
   "execution_count": null,
   "metadata": {},
   "outputs": [],
   "source": []
  },
  {
   "cell_type": "markdown",
   "metadata": {},
   "source": [
    "### 2.3 Initial model 1 -- Predict house sale price for houses selling in the given year"
   ]
  },
  {
   "cell_type": "code",
   "execution_count": null,
   "metadata": {},
   "outputs": [],
   "source": []
  },
  {
   "cell_type": "code",
   "execution_count": null,
   "metadata": {},
   "outputs": [],
   "source": []
  },
  {
   "cell_type": "code",
   "execution_count": null,
   "metadata": {},
   "outputs": [],
   "source": []
  },
  {
   "cell_type": "code",
   "execution_count": null,
   "metadata": {},
   "outputs": [],
   "source": []
  },
  {
   "cell_type": "code",
   "execution_count": null,
   "metadata": {},
   "outputs": [],
   "source": []
  },
  {
   "cell_type": "code",
   "execution_count": null,
   "metadata": {},
   "outputs": [],
   "source": []
  },
  {
   "cell_type": "code",
   "execution_count": null,
   "metadata": {},
   "outputs": [],
   "source": []
  },
  {
   "cell_type": "code",
   "execution_count": null,
   "metadata": {},
   "outputs": [],
   "source": []
  },
  {
   "cell_type": "code",
   "execution_count": null,
   "metadata": {},
   "outputs": [],
   "source": []
  },
  {
   "cell_type": "markdown",
   "metadata": {},
   "source": [
    "### 2.4 Initial model 2 -- Predict dur"
   ]
  },
  {
   "cell_type": "markdown",
   "metadata": {},
   "source": [
    "<b>Note:</b> \n",
    "We are interested to know for a given house we purchase, how profitable it will be.  However we don't know from the sales data in about the houses bought in a given period of time if it will be sold.  Let's look into the putchase and sales dates to see which sales and purchase dares are represented in the dataset!\n"
   ]
  },
  {
   "cell_type": "code",
   "execution_count": null,
   "metadata": {},
   "outputs": [],
   "source": []
  }
 ],
 "metadata": {
  "kernelspec": {
   "display_name": "Python 3",
   "language": "python",
   "name": "python3"
  },
  "language_info": {
   "codemirror_mode": {
    "name": "ipython",
    "version": 3
   },
   "file_extension": ".py",
   "mimetype": "text/x-python",
   "name": "python",
   "nbconvert_exporter": "python",
   "pygments_lexer": "ipython3",
   "version": "3.8.3"
  }
 },
 "nbformat": 4,
 "nbformat_minor": 4
}
