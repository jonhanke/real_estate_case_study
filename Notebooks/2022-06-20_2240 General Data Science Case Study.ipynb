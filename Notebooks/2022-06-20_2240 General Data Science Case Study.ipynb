{
 "cells": [
  {
   "cell_type": "markdown",
   "metadata": {},
   "source": [
    "<center>\n",
    "<h1> General Data Science Case Study </h1>\n",
    "</center>\n",
    "\n",
    "<center>\n",
    "<h5> 2022-06-20 Jonathan Hanke </h5> \n",
    "</center>\n",
    "<hr> \n"
   ]
  },
  {
   "cell_type": "markdown",
   "metadata": {},
   "source": [
    "## 1. Questions"
   ]
  },
  {
   "cell_type": "markdown",
   "metadata": {},
   "source": [
    "### 1a. Is housing price in Allegheny County a martingale?"
   ]
  },
  {
   "cell_type": "markdown",
   "metadata": {},
   "source": [
    "A martingale is a sequence of random variables $X_n$ whose conditional expectations \n",
    "\n",
    "$$\n",
    "\\mathbb{E}[X_n | X_i, i \\in I] =  \\mathbb{E}[X_m]\n",
    "$$\n",
    "where $m := \\mathrm{max}(I)$.  Specifically, for housing prices, this means that the expected/average value of the future housing price is the same as the average last observed price. In other words, housing price is a martingale if gambling in the housing market is a fair game (i.e. no expected profit on average)."
   ]
  },
  {
   "cell_type": "markdown",
   "metadata": {},
   "source": [
    "**Empirical explanation:**  On average housing prices in Allgheny county appear to increase, which shows that the housing price is not a martingale.  This can be seen by exaining the average price, which may be viewed in aggregate or locally, and for our purposes we choose to be taken from \"VALID SALE\" transactions in the dataset (given the field \"SALEDESC\"). \n",
    "    "
   ]
  },
  {
   "cell_type": "markdown",
   "metadata": {},
   "source": [
    "#### Empirical Supporting Analysis/Plots:"
   ]
  },
  {
   "cell_type": "markdown",
   "metadata": {},
   "source": [
    "#### A. Plain and Smoothed Average Sale Price in the three high-volume cities\n",
    "<img src=\"Average_sale_price_for_valid_sales_2000_to_2022.png\">"
   ]
  },
  {
   "cell_type": "markdown",
   "metadata": {},
   "source": [
    "#### B. Smoothed Average Sale Price in the three high-volume cities\n",
    "<img src=\"smoothed_Average_sale_price_for_high_volume_city_valid_sales_2000_to_2022.png\">"
   ]
  },
  {
   "cell_type": "markdown",
   "metadata": {},
   "source": [
    "#### C. Sale volumes for valid sales overall and in the three high-volume cities\n",
    "<img src=\"sale_volume_for_high_volume_city_valid_sales_2000_to_2022.png\">\n",
    "\n",
    "**Note:** A lower volume is reported in 2022 since the year is not complete yet."
   ]
  },
  {
   "cell_type": "markdown",
   "metadata": {},
   "source": [
    "**Theoretical explanation:**  In general, we would expect that average housing prices would increase, driven by limited supply of land in desirable areas and general United States population increase (e.g. <a href=\"https://fred.stlouisfed.org/series/POPTHM\">US Population</a> and <a href=\"https://fred.stlouisfed.org/series/ASPUS\">US Housing Prices</a>). "
   ]
  },
  {
   "cell_type": "code",
   "execution_count": null,
   "metadata": {},
   "outputs": [],
   "source": []
  },
  {
   "cell_type": "markdown",
   "metadata": {},
   "source": [
    "### 1b. Design and test a simple monthly \"Allegheny County Home Value Index\""
   ]
  },
  {
   "cell_type": "markdown",
   "metadata": {},
   "source": [
    "**Update:** This index is in progress -- based on the cap-weighted index for each region (city) with the cumulative housing price for a given region serving as the market capitalization.  Details are contained in the latest \"Allegheny County Housing Price Index\" Jupyter Notebook. "
   ]
  },
  {
   "cell_type": "code",
   "execution_count": null,
   "metadata": {},
   "outputs": [],
   "source": []
  },
  {
   "cell_type": "code",
   "execution_count": null,
   "metadata": {},
   "outputs": [],
   "source": []
  }
 ],
 "metadata": {
  "kernelspec": {
   "display_name": "Python 3",
   "language": "python",
   "name": "python3"
  },
  "language_info": {
   "codemirror_mode": {
    "name": "ipython",
    "version": 3
   },
   "file_extension": ".py",
   "mimetype": "text/x-python",
   "name": "python",
   "nbconvert_exporter": "python",
   "pygments_lexer": "ipython3",
   "version": "3.8.3"
  }
 },
 "nbformat": 4,
 "nbformat_minor": 4
}
